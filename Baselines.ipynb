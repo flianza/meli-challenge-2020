{
 "cells": [
  {
   "cell_type": "code",
   "execution_count": 1,
   "metadata": {},
   "outputs": [],
   "source": [
    "import gzip\n",
    "import json\n",
    "import gc\n",
    "import math\n",
    "from collections import Counter, defaultdict\n",
    "from tqdm.notebook import tqdm\n",
    "import random\n",
    "from sklearn.model_selection import train_test_split"
   ]
  },
  {
   "cell_type": "code",
   "execution_count": 2,
   "metadata": {},
   "outputs": [],
   "source": [
    "def jl_to_list(filename):\n",
    "    output = []\n",
    "    with gzip.open(filename, 'rb') as f:\n",
    "        for line in f:\n",
    "            output.append(json.loads(line))\n",
    "    return output"
   ]
  },
  {
   "cell_type": "code",
   "execution_count": 3,
   "metadata": {},
   "outputs": [],
   "source": [
    "samples = 50000\n",
    "rows = jl_to_list('data/train_dataset.jl.gz')\n",
    "if samples:\n",
    "    rows = rows[:samples]"
   ]
  },
  {
   "cell_type": "code",
   "execution_count": 4,
   "metadata": {},
   "outputs": [],
   "source": [
    "rows_train, rows_test = train_test_split(rows, test_size=0.2, random_state=42)"
   ]
  },
  {
   "cell_type": "code",
   "execution_count": 5,
   "metadata": {},
   "outputs": [
    {
     "data": {
      "text/plain": [
       "{'user_history': [{'event_info': 'CAMERA INTELBRAS SEGURANCA CASA',\n",
       "   'event_timestamp': '2019-10-18T17:34:51.147-0400',\n",
       "   'event_type': 'search'},\n",
       "  {'event_info': 1455128,\n",
       "   'event_timestamp': '2019-10-19T15:14:33.352-0400',\n",
       "   'event_type': 'view'},\n",
       "  {'event_info': 1269708,\n",
       "   'event_timestamp': '2019-10-19T15:15:45.913-0400',\n",
       "   'event_type': 'view'}],\n",
       " 'item_bought': 342538}"
      ]
     },
     "execution_count": 5,
     "metadata": {},
     "output_type": "execute_result"
    }
   ],
   "source": [
    "rows_train[0]"
   ]
  },
  {
   "cell_type": "code",
   "execution_count": 6,
   "metadata": {},
   "outputs": [],
   "source": [
    "item_data = jl_to_list('data/item_data.jl.gz')"
   ]
  },
  {
   "cell_type": "code",
   "execution_count": 7,
   "metadata": {},
   "outputs": [
    {
     "data": {
      "text/plain": [
       "{'item_id': 111260,\n",
       " 'title': 'Casa Sola En Venta Con Gran Patio Solo Pago De Contado.',\n",
       " 'domain_id': 'MLM-INDIVIDUAL_HOUSES_FOR_SALE',\n",
       " 'product_id': None,\n",
       " 'price': '1150000.00',\n",
       " 'category_id': 'MLM170527',\n",
       " 'condition': 'new'}"
      ]
     },
     "execution_count": 7,
     "metadata": {},
     "output_type": "execute_result"
    }
   ],
   "source": [
    "item_data[0]"
   ]
  },
  {
   "cell_type": "code",
   "execution_count": 8,
   "metadata": {},
   "outputs": [],
   "source": [
    "metadata = {x['item_id']:x for x in item_data}"
   ]
  },
  {
   "cell_type": "code",
   "execution_count": 9,
   "metadata": {},
   "outputs": [],
   "source": [
    "all_items = list(metadata.keys())"
   ]
  },
  {
   "cell_type": "markdown",
   "metadata": {},
   "source": [
    "# Items mas vendidos del dominio mas visitado\n",
    "La idea es ver que dominio miro mas veces el usuario y recomendar los items mas vendidos del dominio"
   ]
  },
  {
   "cell_type": "code",
   "execution_count": 10,
   "metadata": {},
   "outputs": [
    {
     "data": {
      "application/vnd.jupyter.widget-view+json": {
       "model_id": "9708f138d9db4abdb24da49b9d39c52e",
       "version_major": 2,
       "version_minor": 0
      },
      "text/plain": [
       "HBox(children=(HTML(value=''), FloatProgress(value=0.0, max=40000.0), HTML(value='')))"
      ]
     },
     "metadata": {},
     "output_type": "display_data"
    },
    {
     "name": "stdout",
     "output_type": "stream",
     "text": [
      "\n"
     ]
    }
   ],
   "source": [
    "ventas_x_dominio = defaultdict(lambda: defaultdict(int))\n",
    "\n",
    "for row in tqdm(rows_train):\n",
    "    viewed = [ev['event_info'] for ev in row['user_history'] if ev['event_type'] == 'view']\n",
    "    for item in viewed:\n",
    "        domain = metadata[item]['domain_id']\n",
    "        ventas_x_dominio[domain][item] += 1"
   ]
  },
  {
   "cell_type": "code",
   "execution_count": 11,
   "metadata": {},
   "outputs": [],
   "source": [
    "def dominios_visitados(row, max_views=15):\n",
    "    domains = Counter()\n",
    "    viewed = [ev['event_info'] for ev in row['user_history'] if ev['event_type'] == 'view']\n",
    "    if len(viewed) > max_views:\n",
    "        viewed = viewed[:max_views]\n",
    "    for item in viewed:\n",
    "        domain = metadata[item]['domain_id']\n",
    "        domains[domain] += 1\n",
    "    return domains"
   ]
  },
  {
   "cell_type": "code",
   "execution_count": 12,
   "metadata": {},
   "outputs": [
    {
     "data": {
      "text/plain": [
       "Counter({'MLB-KITCHEN_SUPPLIES': 1, 'MLB-LEGGINGS': 1})"
      ]
     },
     "execution_count": 12,
     "metadata": {},
     "output_type": "execute_result"
    }
   ],
   "source": [
    "dominios_visitados(rows_train[0])"
   ]
  },
  {
   "cell_type": "code",
   "execution_count": 13,
   "metadata": {},
   "outputs": [],
   "source": [
    "def top_items(domain, k=10):\n",
    "    top = ventas_x_dominio[domain]\n",
    "    top = Counter(top)\n",
    "    top = top.most_common(k)\n",
    "    return [x[0] for x in top]"
   ]
  },
  {
   "cell_type": "code",
   "execution_count": 14,
   "metadata": {},
   "outputs": [
    {
     "data": {
      "text/plain": [
       "[1958493,\n",
       " 1189880,\n",
       " 556723,\n",
       " 1908820,\n",
       " 1110319,\n",
       " 791116,\n",
       " 572086,\n",
       " 299240,\n",
       " 1228153,\n",
       " 930009]"
      ]
     },
     "execution_count": 14,
     "metadata": {},
     "output_type": "execute_result"
    }
   ],
   "source": [
    "top_items('MLB-KITCHEN_SUPPLIES')"
   ]
  },
  {
   "cell_type": "code",
   "execution_count": 15,
   "metadata": {},
   "outputs": [],
   "source": [
    "def top_by_best_domain(row, k=10):\n",
    "    viewed = [ev['event_info'] for ev in row['user_history'] if ev['event_type'] == 'view']\n",
    "    if len(viewed) == 0:\n",
    "        return random.choices(all_items, k=k)\n",
    "    domain = dominios_visitados(row, 20)\n",
    "    domain = domain.most_common(1)[0][0]\n",
    "    return top_items(domain, k=k)"
   ]
  },
  {
   "cell_type": "code",
   "execution_count": 16,
   "metadata": {},
   "outputs": [
    {
     "data": {
      "text/plain": [
       "[1958493,\n",
       " 1189880,\n",
       " 556723,\n",
       " 1908820,\n",
       " 1110319,\n",
       " 791116,\n",
       " 572086,\n",
       " 299240,\n",
       " 1228153,\n",
       " 930009]"
      ]
     },
     "execution_count": 16,
     "metadata": {},
     "output_type": "execute_result"
    }
   ],
   "source": [
    "top_by_best_domain(rows_train[0])"
   ]
  },
  {
   "cell_type": "code",
   "execution_count": 17,
   "metadata": {},
   "outputs": [
    {
     "data": {
      "application/vnd.jupyter.widget-view+json": {
       "model_id": "b1d6247184474afa892ca034e4d8c4a1",
       "version_major": 2,
       "version_minor": 0
      },
      "text/plain": [
       "HBox(children=(HTML(value=''), FloatProgress(value=0.0, max=10000.0), HTML(value='')))"
      ]
     },
     "metadata": {},
     "output_type": "display_data"
    },
    {
     "name": "stdout",
     "output_type": "stream",
     "text": [
      "\n"
     ]
    }
   ],
   "source": [
    "y_pred = []\n",
    "for row in tqdm(rows_test):\n",
    "    recomendacion = top_by_best_domain(row)\n",
    "    y_pred.append(recomendacion)"
   ]
  },
  {
   "cell_type": "code",
   "execution_count": 18,
   "metadata": {},
   "outputs": [],
   "source": [
    "y_true = [row['item_bought'] for row in rows_test]"
   ]
  },
  {
   "cell_type": "code",
   "execution_count": 19,
   "metadata": {},
   "outputs": [
    {
     "data": {
      "text/plain": [
       "[457123,\n",
       " 1584461,\n",
       " 1649403,\n",
       " 1103659,\n",
       " 1389864,\n",
       " 277255,\n",
       " 1602308,\n",
       " 1605313,\n",
       " 2102121,\n",
       " 341510]"
      ]
     },
     "execution_count": 19,
     "metadata": {},
     "output_type": "execute_result"
    }
   ],
   "source": [
    "y_pred[0]"
   ]
  },
  {
   "cell_type": "code",
   "execution_count": 20,
   "metadata": {},
   "outputs": [
    {
     "data": {
      "text/plain": [
       "1902250"
      ]
     },
     "execution_count": 20,
     "metadata": {},
     "output_type": "execute_result"
    }
   ],
   "source": [
    "y_true[0]"
   ]
  },
  {
   "cell_type": "markdown",
   "metadata": {},
   "source": [
    "# Ultimos items vistos\n",
    "Recomendar los ultimos items vistos"
   ]
  },
  {
   "cell_type": "code",
   "execution_count": 21,
   "metadata": {},
   "outputs": [],
   "source": [
    "def last_viewed(row, k=10):\n",
    "    viewed = [ev for ev in row['user_history'] if ev['event_type'] == 'view']\n",
    "    viewed = sorted(viewed, key=lambda x: x['event_timestamp'], reverse=True)\n",
    "    viewed = [ev['event_info'] for ev in viewed]\n",
    "    recomendacion = []\n",
    "    \n",
    "    for item in viewed:\n",
    "        if item not in recomendacion:\n",
    "            recomendacion.append(item)\n",
    "    \n",
    "    if len(recomendacion) > k:\n",
    "        recomendacion = recomendacion[:k]\n",
    "    \n",
    "    missing_items = k - len(recomendacion)\n",
    "    fill_items = random.choices(all_items, k=missing_items)\n",
    "    \n",
    "    return recomendacion + fill_items"
   ]
  },
  {
   "cell_type": "code",
   "execution_count": 22,
   "metadata": {},
   "outputs": [
    {
     "data": {
      "text/plain": [
       "[1615991,\n",
       " 1786148,\n",
       " 1034192,\n",
       " 1372431,\n",
       " 137147,\n",
       " 1146467,\n",
       " 814752,\n",
       " 1095730,\n",
       " 674391,\n",
       " 876722]"
      ]
     },
     "execution_count": 22,
     "metadata": {},
     "output_type": "execute_result"
    }
   ],
   "source": [
    "last_viewed(rows[0])"
   ]
  },
  {
   "cell_type": "code",
   "execution_count": 23,
   "metadata": {},
   "outputs": [
    {
     "data": {
      "application/vnd.jupyter.widget-view+json": {
       "model_id": "8abf3dc39ef64fc29dec5bd5620467b6",
       "version_major": 2,
       "version_minor": 0
      },
      "text/plain": [
       "HBox(children=(HTML(value=''), FloatProgress(value=0.0, max=10000.0), HTML(value='')))"
      ]
     },
     "metadata": {},
     "output_type": "display_data"
    },
    {
     "name": "stdout",
     "output_type": "stream",
     "text": [
      "\n"
     ]
    }
   ],
   "source": [
    "y_pred = []\n",
    "for row in tqdm(rows_test):\n",
    "    recomendacion = last_viewed(row)\n",
    "    y_pred.append(recomendacion)"
   ]
  },
  {
   "cell_type": "markdown",
   "metadata": {},
   "source": [
    "# Vistas y Compras"
   ]
  },
  {
   "cell_type": "code",
   "execution_count": 24,
   "metadata": {},
   "outputs": [
    {
     "data": {
      "application/vnd.jupyter.widget-view+json": {
       "model_id": "02c4518a8d4d4b72a51a370373e3b536",
       "version_major": 2,
       "version_minor": 0
      },
      "text/plain": [
       "HBox(children=(HTML(value=''), FloatProgress(value=0.0, max=40000.0), HTML(value='')))"
      ]
     },
     "metadata": {},
     "output_type": "display_data"
    },
    {
     "name": "stdout",
     "output_type": "stream",
     "text": [
      "\n"
     ]
    }
   ],
   "source": [
    "vistas_compras = defaultdict(lambda: defaultdict(int))\n",
    "for row in tqdm(rows_train):\n",
    "    for ev in row['user_history']:\n",
    "        if ev['event_type'] == 'view':\n",
    "            vistas_compras[int(ev['event_info'])][int(row['item_bought'])] += 1"
   ]
  },
  {
   "cell_type": "code",
   "execution_count": 25,
   "metadata": {},
   "outputs": [],
   "source": [
    "def get_item_scores(row):\n",
    "    item_scores = defaultdict(int)\n",
    "    for ev in row['user_history']:\n",
    "        if ev['event_type'] == 'view':\n",
    "            for k, v in vistas_compras[int(ev['event_info'])].items():\n",
    "                item_scores[k] += v\n",
    "    \n",
    "    return Counter(item_scores)"
   ]
  },
  {
   "cell_type": "code",
   "execution_count": 26,
   "metadata": {},
   "outputs": [
    {
     "data": {
      "text/plain": [
       "Counter({702406: 59,\n",
       "         379741: 8,\n",
       "         525875: 2,\n",
       "         1343601: 150,\n",
       "         1587422: 116,\n",
       "         740586: 7,\n",
       "         1533042: 3,\n",
       "         2023019: 4,\n",
       "         786745: 6,\n",
       "         1127740: 189,\n",
       "         928548: 6,\n",
       "         910588: 8,\n",
       "         1926672: 8,\n",
       "         1299465: 1,\n",
       "         1975106: 7,\n",
       "         1420390: 1,\n",
       "         1567385: 2,\n",
       "         1035836: 1,\n",
       "         231634: 1,\n",
       "         725371: 181,\n",
       "         536540: 32,\n",
       "         151458: 2,\n",
       "         1292323: 13,\n",
       "         106472: 1,\n",
       "         588326: 6,\n",
       "         2009504: 2,\n",
       "         1856280: 2,\n",
       "         1813877: 9,\n",
       "         2013706: 3,\n",
       "         927857: 4,\n",
       "         86082: 55,\n",
       "         1215956: 1,\n",
       "         832022: 1,\n",
       "         129029: 26,\n",
       "         1795702: 87,\n",
       "         2086498: 1,\n",
       "         1416723: 1,\n",
       "         1847644: 35,\n",
       "         1715614: 1,\n",
       "         1028985: 1,\n",
       "         431985: 6,\n",
       "         31377: 3,\n",
       "         804820: 15,\n",
       "         1033830: 1,\n",
       "         455802: 1,\n",
       "         104388: 1,\n",
       "         517255: 1,\n",
       "         1172027: 12,\n",
       "         1121346: 2,\n",
       "         1039554: 12,\n",
       "         1908934: 3,\n",
       "         1111021: 13,\n",
       "         1792453: 5,\n",
       "         1835788: 18,\n",
       "         819461: 2,\n",
       "         849156: 38,\n",
       "         1107706: 3,\n",
       "         1486146: 1,\n",
       "         606874: 3,\n",
       "         1114176: 6,\n",
       "         1560566: 1,\n",
       "         543679: 7,\n",
       "         1279006: 1,\n",
       "         517614: 2,\n",
       "         310705: 3,\n",
       "         1844222: 1,\n",
       "         380933: 29,\n",
       "         1920677: 4,\n",
       "         2041146: 7,\n",
       "         1071962: 16,\n",
       "         1615964: 3,\n",
       "         1371799: 16,\n",
       "         604214: 2,\n",
       "         371066: 10,\n",
       "         101950: 2,\n",
       "         1242798: 1,\n",
       "         1079853: 2,\n",
       "         1095956: 11,\n",
       "         1258877: 11,\n",
       "         596359: 1,\n",
       "         1157133: 2,\n",
       "         403859: 7,\n",
       "         1264704: 1,\n",
       "         1164271: 1,\n",
       "         1411732: 3,\n",
       "         962745: 7,\n",
       "         1251278: 2,\n",
       "         1878965: 1,\n",
       "         1311646: 12,\n",
       "         1066496: 1,\n",
       "         146762: 5,\n",
       "         973392: 1,\n",
       "         78678: 1,\n",
       "         1027487: 2,\n",
       "         424566: 7,\n",
       "         1038827: 4,\n",
       "         563256: 1,\n",
       "         247982: 1,\n",
       "         287248: 6,\n",
       "         1695280: 5,\n",
       "         7233: 2,\n",
       "         963554: 1,\n",
       "         871685: 1,\n",
       "         88121: 4,\n",
       "         501048: 1,\n",
       "         220995: 2,\n",
       "         966428: 2,\n",
       "         1470284: 1,\n",
       "         542104: 2,\n",
       "         443889: 2,\n",
       "         1999376: 5,\n",
       "         1920886: 2,\n",
       "         1080561: 2,\n",
       "         1464062: 2,\n",
       "         900179: 1,\n",
       "         455018: 1,\n",
       "         914466: 2,\n",
       "         617648: 1,\n",
       "         593367: 3,\n",
       "         571768: 2,\n",
       "         1369624: 2,\n",
       "         867251: 14,\n",
       "         628598: 5,\n",
       "         1583490: 2,\n",
       "         584074: 1,\n",
       "         1280420: 7,\n",
       "         710280: 1,\n",
       "         1714175: 1,\n",
       "         726973: 1,\n",
       "         1875813: 1,\n",
       "         636487: 1,\n",
       "         573757: 2,\n",
       "         1297329: 4,\n",
       "         1682957: 3,\n",
       "         99044: 5,\n",
       "         1034890: 1,\n",
       "         1052066: 1,\n",
       "         1381496: 2,\n",
       "         436250: 2,\n",
       "         864466: 2,\n",
       "         2074864: 1,\n",
       "         1144096: 1,\n",
       "         1208667: 79,\n",
       "         1338314: 96,\n",
       "         2014579: 50,\n",
       "         2050215: 9,\n",
       "         433379: 2,\n",
       "         1891737: 2,\n",
       "         2023572: 2,\n",
       "         1226558: 2,\n",
       "         1321594: 5,\n",
       "         1351947: 24,\n",
       "         1976417: 21,\n",
       "         593642: 2,\n",
       "         1682507: 18,\n",
       "         1508716: 6,\n",
       "         100581: 3,\n",
       "         883507: 9,\n",
       "         1792965: 2,\n",
       "         1487880: 4,\n",
       "         859574: 6,\n",
       "         698613: 67,\n",
       "         1779506: 12,\n",
       "         817689: 53,\n",
       "         1560287: 11,\n",
       "         1655055: 35,\n",
       "         646254: 4,\n",
       "         1249808: 4,\n",
       "         2040501: 8,\n",
       "         2002433: 2,\n",
       "         1660337: 4,\n",
       "         1448753: 16,\n",
       "         62835: 6,\n",
       "         122186: 14,\n",
       "         1103471: 13,\n",
       "         1417119: 6,\n",
       "         1152603: 31,\n",
       "         1196315: 5,\n",
       "         438423: 8,\n",
       "         1009325: 9,\n",
       "         2033207: 4,\n",
       "         1160041: 2,\n",
       "         956826: 18,\n",
       "         2021710: 12,\n",
       "         1880554: 2,\n",
       "         1018855: 2,\n",
       "         1991343: 14,\n",
       "         1199342: 9,\n",
       "         1644076: 4,\n",
       "         584318: 26,\n",
       "         1337791: 6,\n",
       "         804332: 3,\n",
       "         756951: 6,\n",
       "         1909436: 2,\n",
       "         1609312: 8,\n",
       "         555600: 2,\n",
       "         904284: 4,\n",
       "         1044794: 2,\n",
       "         1246909: 8,\n",
       "         287853: 2,\n",
       "         1675060: 2,\n",
       "         1200835: 2,\n",
       "         1716388: 4,\n",
       "         1685981: 4,\n",
       "         1495106: 4,\n",
       "         1966885: 1,\n",
       "         2027136: 1,\n",
       "         737882: 1,\n",
       "         913875: 2,\n",
       "         671264: 1,\n",
       "         1240204: 1,\n",
       "         1906937: 1,\n",
       "         696038: 2,\n",
       "         1928899: 2,\n",
       "         1142550: 1,\n",
       "         1367388: 1,\n",
       "         1919542: 2,\n",
       "         1023050: 2,\n",
       "         268523: 19,\n",
       "         1189878: 2,\n",
       "         539475: 6,\n",
       "         433988: 2,\n",
       "         1673619: 2,\n",
       "         1236649: 3,\n",
       "         2053790: 9,\n",
       "         3585: 12,\n",
       "         1925860: 3,\n",
       "         232344: 6,\n",
       "         1521238: 25})"
      ]
     },
     "execution_count": 26,
     "metadata": {},
     "output_type": "execute_result"
    }
   ],
   "source": [
    "get_item_scores(rows_train[2])"
   ]
  },
  {
   "cell_type": "code",
   "execution_count": 27,
   "metadata": {},
   "outputs": [],
   "source": [
    "def vc_recomendacion(row):\n",
    "    recomendacion = []\n",
    "    scores = get_item_scores(row)\n",
    "    most_common = scores.most_common()\n",
    "    for item, score in most_common:\n",
    "        recomendacion.append(item)\n",
    "        if len(recomendacion) == 10:\n",
    "            return recomendacion\n",
    "        \n",
    "    missing_items = 10 - len(recomendacion)\n",
    "    fill_items = random.choices(all_items, k=missing_items)\n",
    "    \n",
    "    return recomendacion + fill_items"
   ]
  },
  {
   "cell_type": "code",
   "execution_count": 28,
   "metadata": {},
   "outputs": [
    {
     "data": {
      "text/plain": [
       "[1909110,\n",
       " 35690,\n",
       " 1424897,\n",
       " 1842806,\n",
       " 1554232,\n",
       " 600580,\n",
       " 227448,\n",
       " 1394070,\n",
       " 156432,\n",
       " 528612]"
      ]
     },
     "execution_count": 28,
     "metadata": {},
     "output_type": "execute_result"
    }
   ],
   "source": [
    "vc_recomendacion(rows[2])"
   ]
  },
  {
   "cell_type": "code",
   "execution_count": 29,
   "metadata": {},
   "outputs": [
    {
     "data": {
      "application/vnd.jupyter.widget-view+json": {
       "model_id": "2f35d3c1683a4a779da9dc8a8fad5651",
       "version_major": 2,
       "version_minor": 0
      },
      "text/plain": [
       "HBox(children=(HTML(value=''), FloatProgress(value=0.0, max=10000.0), HTML(value='')))"
      ]
     },
     "metadata": {},
     "output_type": "display_data"
    },
    {
     "name": "stdout",
     "output_type": "stream",
     "text": [
      "\n"
     ]
    }
   ],
   "source": [
    "y_pred = []\n",
    "for row in tqdm(rows_test):\n",
    "    recomendacion = vc_recomendacion(row)\n",
    "    y_pred.append(recomendacion)"
   ]
  },
  {
   "cell_type": "code",
   "execution_count": null,
   "metadata": {},
   "outputs": [],
   "source": []
  }
 ],
 "metadata": {
  "kernelspec": {
   "display_name": "Python 3",
   "language": "python",
   "name": "python3"
  },
  "language_info": {
   "codemirror_mode": {
    "name": "ipython",
    "version": 3
   },
   "file_extension": ".py",
   "mimetype": "text/x-python",
   "name": "python",
   "nbconvert_exporter": "python",
   "pygments_lexer": "ipython3",
   "version": "3.7.9"
  }
 },
 "nbformat": 4,
 "nbformat_minor": 4
}
