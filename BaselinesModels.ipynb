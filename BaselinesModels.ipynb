{
 "cells": [
  {
   "cell_type": "code",
   "execution_count": null,
   "metadata": {},
   "outputs": [],
   "source": [
    "%load_ext autoreload\n",
    "%autoreload 2"
   ]
  },
  {
   "cell_type": "code",
   "execution_count": null,
   "metadata": {},
   "outputs": [],
   "source": [
    "from sklearn.model_selection import train_test_split\n",
    "from utils import jl_to_list\n",
    "\n",
    "samples = None\n",
    "rows = jl_to_list('data/train_dataset.jl.gz')\n",
    "if samples is not None:\n",
    "    rows = rows[:samples]\n",
    "rows_train, rows_test = train_test_split(rows, test_size=0.2, random_state=42)\n",
    "\n",
    "item_data = jl_to_list('data/item_data.jl.gz')\n",
    "\n",
    "test_dataset = []\n",
    "if samples is not None:\n",
    "    test_dataset = jl_to_list('data/test_dataset.jl.gz')"
   ]
  },
  {
   "cell_type": "code",
   "execution_count": null,
   "metadata": {
    "scrolled": false
   },
   "outputs": [],
   "source": [
    "from tqdm.notebook import tqdm\n",
    "\n",
    "metadata = {x['item_id']:x for x in tqdm(item_data)}\n",
    "all_items = list(metadata.keys())\n",
    "y_true = [row['item_bought'] for row in tqdm(rows_test)]\n",
    "y_full_true = [row['item_bought'] for row in tqdm(rows)]\n",
    "\n",
    "sold_items_ids = {row['item_bought'] for row in tqdm(rows)}\n",
    "sold_prices = [float(metadata[item_id]['price'] if metadata[item_id]['price'] is not None else 99999) for item_id in tqdm(sold_items_ids)]"
   ]
  },
  {
   "cell_type": "code",
   "execution_count": null,
   "metadata": {
    "scrolled": true
   },
   "outputs": [],
   "source": [
    "from models import TopViewedItemsByMostFrequentDomainBaseline, LastViewedBaseline\n",
    "from order_models import PriceBasedOrder\n",
    "\n",
    "fill_model = TopViewedItemsByMostFrequentDomainBaseline(all_items, metadata, verbose=False)\n",
    "baseline = LastViewedBaseline(all_items, fill_model=fill_model)\n",
    "order = PriceBasedOrder(metadata, sold_prices)\n",
    "\n",
    "baseline.fit(rows)\n",
    "y_pred = baseline.predict(test_dataset)\n",
    "y_pred_ordered = order.predict(y_pred)"
   ]
  },
  {
   "cell_type": "code",
   "execution_count": null,
   "metadata": {},
   "outputs": [],
   "source": [
    "from metrics import ndcg\n",
    "\n",
    "ndcg(y_pred, y_true, metadata)"
   ]
  },
  {
   "cell_type": "code",
   "execution_count": null,
   "metadata": {},
   "outputs": [],
   "source": [
    "from metrics import ndcg\n",
    "\n",
    "ndcg(y_pred_ordered, y_true, metadata)"
   ]
  },
  {
   "cell_type": "code",
   "execution_count": null,
   "metadata": {},
   "outputs": [],
   "source": [
    "import pandas as pd\n",
    "df = pd.DataFrame(data=y_pred)\n",
    "df.to_csv(\"./results/ordered.csv\",sep=',',index=False,header=False)"
   ]
  },
  {
   "cell_type": "code",
   "execution_count": null,
   "metadata": {},
   "outputs": [],
   "source": [
    "fill_model = LastViewedBaseline(all_items, verbose=False)\n",
    "baseline = TopViewedItemsByMostFrequentDomainBaseline(all_items, metadata, fill_model=fill_model)\n",
    "baseline.fit(rows_train)\n",
    "y_pred = baseline.predict(rows_test)"
   ]
  },
  {
   "cell_type": "code",
   "execution_count": null,
   "metadata": {},
   "outputs": [],
   "source": [
    "ndcg(y_pred, y_true, metadata)"
   ]
  },
  {
   "cell_type": "code",
   "execution_count": null,
   "metadata": {},
   "outputs": [],
   "source": []
  }
 ],
 "metadata": {
  "kernelspec": {
   "display_name": "Python 3",
   "language": "python",
   "name": "python3"
  },
  "language_info": {
   "codemirror_mode": {
    "name": "ipython",
    "version": 3
   },
   "file_extension": ".py",
   "mimetype": "text/x-python",
   "name": "python",
   "nbconvert_exporter": "python",
   "pygments_lexer": "ipython3",
   "version": "3.7.9"
  }
 },
 "nbformat": 4,
 "nbformat_minor": 4
}
