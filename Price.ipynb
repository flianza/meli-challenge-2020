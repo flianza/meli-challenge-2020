{
 "cells": [
  {
   "cell_type": "code",
   "execution_count": 1,
   "metadata": {},
   "outputs": [],
   "source": [
    "from utils import jl_to_list\n",
    "\n",
    "samples = None\n",
    "rows = jl_to_list('data/train_dataset.jl.gz')\n",
    "if samples:\n",
    "    rows = rows[:samples]\n",
    "\n",
    "item_data = jl_to_list('data/item_data.jl.gz')\n",
    "\n",
    "metadata = {x['item_id']:x for x in item_data}\n",
    "all_items = list(metadata.keys())\n",
    "\n",
    "y_true = [row['item_bought'] for row in rows]\n",
    "\n",
    "test_dataset = jl_to_list('data/test_dataset.jl.gz')"
   ]
  },
  {
   "cell_type": "code",
   "execution_count": 2,
   "metadata": {},
   "outputs": [],
   "source": [
    "import pandas as pd\n",
    "\n",
    "df = pd.DataFrame(item_data)"
   ]
  },
  {
   "cell_type": "code",
   "execution_count": 3,
   "metadata": {
    "scrolled": true
   },
   "outputs": [
    {
     "data": {
      "text/html": [
       "<div>\n",
       "<style scoped>\n",
       "    .dataframe tbody tr th:only-of-type {\n",
       "        vertical-align: middle;\n",
       "    }\n",
       "\n",
       "    .dataframe tbody tr th {\n",
       "        vertical-align: top;\n",
       "    }\n",
       "\n",
       "    .dataframe thead th {\n",
       "        text-align: right;\n",
       "    }\n",
       "</style>\n",
       "<table border=\"1\" class=\"dataframe\">\n",
       "  <thead>\n",
       "    <tr style=\"text-align: right;\">\n",
       "      <th></th>\n",
       "      <th>item_id</th>\n",
       "      <th>title</th>\n",
       "      <th>domain_id</th>\n",
       "      <th>product_id</th>\n",
       "      <th>price</th>\n",
       "      <th>category_id</th>\n",
       "      <th>condition</th>\n",
       "    </tr>\n",
       "  </thead>\n",
       "  <tbody>\n",
       "    <tr>\n",
       "      <th>0</th>\n",
       "      <td>111260</td>\n",
       "      <td>Casa Sola En Venta Con Gran Patio Solo Pago De...</td>\n",
       "      <td>MLM-INDIVIDUAL_HOUSES_FOR_SALE</td>\n",
       "      <td>None</td>\n",
       "      <td>1150000.00</td>\n",
       "      <td>MLM170527</td>\n",
       "      <td>new</td>\n",
       "    </tr>\n",
       "    <tr>\n",
       "      <th>1</th>\n",
       "      <td>871377</td>\n",
       "      <td>Resident Evil Origins Collection Nintendo Swit...</td>\n",
       "      <td>MLM-VIDEO_GAMES</td>\n",
       "      <td>15270800</td>\n",
       "      <td>1392.83</td>\n",
       "      <td>MLM151595</td>\n",
       "      <td>new</td>\n",
       "    </tr>\n",
       "    <tr>\n",
       "      <th>2</th>\n",
       "      <td>490232</td>\n",
       "      <td>Falda De Imitación Piel Negra</td>\n",
       "      <td>MLM-SKIRTS</td>\n",
       "      <td>None</td>\n",
       "      <td>350.00</td>\n",
       "      <td>MLM7697</td>\n",
       "      <td>new</td>\n",
       "    </tr>\n",
       "    <tr>\n",
       "      <th>3</th>\n",
       "      <td>1150706</td>\n",
       "      <td>Powercolor Red Devil Radeon Rx 580 8gb Gddr5</td>\n",
       "      <td>MLM-GRAPHICS_CARDS</td>\n",
       "      <td>None</td>\n",
       "      <td>3200.00</td>\n",
       "      <td>MLM9761</td>\n",
       "      <td>used</td>\n",
       "    </tr>\n",
       "    <tr>\n",
       "      <th>4</th>\n",
       "      <td>934912</td>\n",
       "      <td>Laptop Hp Nx6320 Core Duo Con Puerto Db9 Windo...</td>\n",
       "      <td>MLM-NOTEBOOKS</td>\n",
       "      <td>None</td>\n",
       "      <td>1599.00</td>\n",
       "      <td>MLM1652</td>\n",
       "      <td>used</td>\n",
       "    </tr>\n",
       "  </tbody>\n",
       "</table>\n",
       "</div>"
      ],
      "text/plain": [
       "   item_id                                              title  \\\n",
       "0   111260  Casa Sola En Venta Con Gran Patio Solo Pago De...   \n",
       "1   871377  Resident Evil Origins Collection Nintendo Swit...   \n",
       "2   490232                      Falda De Imitación Piel Negra   \n",
       "3  1150706       Powercolor Red Devil Radeon Rx 580 8gb Gddr5   \n",
       "4   934912  Laptop Hp Nx6320 Core Duo Con Puerto Db9 Windo...   \n",
       "\n",
       "                        domain_id product_id       price category_id condition  \n",
       "0  MLM-INDIVIDUAL_HOUSES_FOR_SALE       None  1150000.00   MLM170527       new  \n",
       "1                 MLM-VIDEO_GAMES   15270800     1392.83   MLM151595       new  \n",
       "2                      MLM-SKIRTS       None      350.00     MLM7697       new  \n",
       "3              MLM-GRAPHICS_CARDS       None     3200.00     MLM9761      used  \n",
       "4                   MLM-NOTEBOOKS       None     1599.00     MLM1652      used  "
      ]
     },
     "execution_count": 3,
     "metadata": {},
     "output_type": "execute_result"
    }
   ],
   "source": [
    "df.head()"
   ]
  },
  {
   "cell_type": "code",
   "execution_count": 4,
   "metadata": {},
   "outputs": [],
   "source": [
    "df = df[df['item_id'].isin(y_true)]"
   ]
  },
  {
   "cell_type": "code",
   "execution_count": 5,
   "metadata": {},
   "outputs": [
    {
     "data": {
      "text/html": [
       "<div>\n",
       "<style scoped>\n",
       "    .dataframe tbody tr th:only-of-type {\n",
       "        vertical-align: middle;\n",
       "    }\n",
       "\n",
       "    .dataframe tbody tr th {\n",
       "        vertical-align: top;\n",
       "    }\n",
       "\n",
       "    .dataframe thead th {\n",
       "        text-align: right;\n",
       "    }\n",
       "</style>\n",
       "<table border=\"1\" class=\"dataframe\">\n",
       "  <thead>\n",
       "    <tr style=\"text-align: right;\">\n",
       "      <th></th>\n",
       "      <th>item_id</th>\n",
       "      <th>title</th>\n",
       "      <th>domain_id</th>\n",
       "      <th>product_id</th>\n",
       "      <th>price</th>\n",
       "      <th>category_id</th>\n",
       "      <th>condition</th>\n",
       "    </tr>\n",
       "  </thead>\n",
       "  <tbody>\n",
       "    <tr>\n",
       "      <th>31</th>\n",
       "      <td>297627</td>\n",
       "      <td>S10 10.1 Pulgadas Tablet Pc Android 8.0 8+128g...</td>\n",
       "      <td>MLM-TABLETS</td>\n",
       "      <td>None</td>\n",
       "      <td>1858.31</td>\n",
       "      <td>MLM82070</td>\n",
       "      <td>new</td>\n",
       "    </tr>\n",
       "    <tr>\n",
       "      <th>38</th>\n",
       "      <td>883687</td>\n",
       "      <td>2 Pack Tapete Foamy 3m2 61x61 8mm Fomy Gym Niñ...</td>\n",
       "      <td>MLM-BABY_SUPPLIES</td>\n",
       "      <td>None</td>\n",
       "      <td>399.00</td>\n",
       "      <td>MLM1887</td>\n",
       "      <td>new</td>\n",
       "    </tr>\n",
       "    <tr>\n",
       "      <th>141</th>\n",
       "      <td>153499</td>\n",
       "      <td>Bateria Xiaomi Mi Power Bank 2c 20000mah Quick...</td>\n",
       "      <td>MLM-PORTABLE_CELLPHONE_CHARGERS</td>\n",
       "      <td>None</td>\n",
       "      <td>999.00</td>\n",
       "      <td>MLM187617</td>\n",
       "      <td>new</td>\n",
       "    </tr>\n",
       "    <tr>\n",
       "      <th>169</th>\n",
       "      <td>1216469</td>\n",
       "      <td>Donde Habitan Los Ángeles</td>\n",
       "      <td>MLM-BOOKS</td>\n",
       "      <td>None</td>\n",
       "      <td>228.00</td>\n",
       "      <td>MLM1196</td>\n",
       "      <td>new</td>\n",
       "    </tr>\n",
       "    <tr>\n",
       "      <th>226</th>\n",
       "      <td>1283004</td>\n",
       "      <td>Bascula Digital 180kg Personal Cristal Templad...</td>\n",
       "      <td>MLM-BODYWEIGHT_SCALES</td>\n",
       "      <td>None</td>\n",
       "      <td>369.00</td>\n",
       "      <td>MLM5387</td>\n",
       "      <td>new</td>\n",
       "    </tr>\n",
       "  </tbody>\n",
       "</table>\n",
       "</div>"
      ],
      "text/plain": [
       "     item_id                                              title  \\\n",
       "31    297627  S10 10.1 Pulgadas Tablet Pc Android 8.0 8+128g...   \n",
       "38    883687  2 Pack Tapete Foamy 3m2 61x61 8mm Fomy Gym Niñ...   \n",
       "141   153499  Bateria Xiaomi Mi Power Bank 2c 20000mah Quick...   \n",
       "169  1216469                          Donde Habitan Los Ángeles   \n",
       "226  1283004  Bascula Digital 180kg Personal Cristal Templad...   \n",
       "\n",
       "                           domain_id product_id    price category_id condition  \n",
       "31                       MLM-TABLETS       None  1858.31    MLM82070       new  \n",
       "38                 MLM-BABY_SUPPLIES       None   399.00     MLM1887       new  \n",
       "141  MLM-PORTABLE_CELLPHONE_CHARGERS       None   999.00   MLM187617       new  \n",
       "169                        MLM-BOOKS       None   228.00     MLM1196       new  \n",
       "226            MLM-BODYWEIGHT_SCALES       None   369.00     MLM5387       new  "
      ]
     },
     "execution_count": 5,
     "metadata": {},
     "output_type": "execute_result"
    }
   ],
   "source": [
    "df.head()"
   ]
  },
  {
   "cell_type": "code",
   "execution_count": 6,
   "metadata": {},
   "outputs": [],
   "source": [
    "df['price'] = df['price'].astype(float)"
   ]
  },
  {
   "cell_type": "code",
   "execution_count": 7,
   "metadata": {},
   "outputs": [
    {
     "data": {
      "text/plain": [
       "item_id            0\n",
       "title              0\n",
       "domain_id          0\n",
       "product_id     50769\n",
       "price              0\n",
       "category_id        0\n",
       "condition          0\n",
       "dtype: int64"
      ]
     },
     "execution_count": 7,
     "metadata": {},
     "output_type": "execute_result"
    }
   ],
   "source": [
    "df.isna().sum()"
   ]
  },
  {
   "cell_type": "code",
   "execution_count": 8,
   "metadata": {},
   "outputs": [
    {
     "data": {
      "text/plain": [
       "(64928, 7)"
      ]
     },
     "execution_count": 8,
     "metadata": {},
     "output_type": "execute_result"
    }
   ],
   "source": [
    "df.shape"
   ]
  },
  {
   "cell_type": "code",
   "execution_count": 9,
   "metadata": {},
   "outputs": [
    {
     "name": "stdout",
     "output_type": "stream",
     "text": [
      "<class 'pandas.core.frame.DataFrame'>\n",
      "Int64Index: 64928 entries, 31 to 2102267\n",
      "Data columns (total 7 columns):\n",
      " #   Column       Non-Null Count  Dtype  \n",
      "---  ------       --------------  -----  \n",
      " 0   item_id      64928 non-null  int64  \n",
      " 1   title        64928 non-null  object \n",
      " 2   domain_id    64928 non-null  object \n",
      " 3   product_id   14159 non-null  object \n",
      " 4   price        64928 non-null  float64\n",
      " 5   category_id  64928 non-null  object \n",
      " 6   condition    64928 non-null  object \n",
      "dtypes: float64(1), int64(1), object(5)\n",
      "memory usage: 4.0+ MB\n"
     ]
    }
   ],
   "source": [
    "df.info()"
   ]
  },
  {
   "cell_type": "code",
   "execution_count": 10,
   "metadata": {},
   "outputs": [
    {
     "data": {
      "text/html": [
       "<div>\n",
       "<style scoped>\n",
       "    .dataframe tbody tr th:only-of-type {\n",
       "        vertical-align: middle;\n",
       "    }\n",
       "\n",
       "    .dataframe tbody tr th {\n",
       "        vertical-align: top;\n",
       "    }\n",
       "\n",
       "    .dataframe thead th {\n",
       "        text-align: right;\n",
       "    }\n",
       "</style>\n",
       "<table border=\"1\" class=\"dataframe\">\n",
       "  <thead>\n",
       "    <tr style=\"text-align: right;\">\n",
       "      <th></th>\n",
       "      <th>count</th>\n",
       "      <th>unique</th>\n",
       "      <th>top</th>\n",
       "      <th>freq</th>\n",
       "      <th>mean</th>\n",
       "      <th>std</th>\n",
       "      <th>min</th>\n",
       "      <th>25%</th>\n",
       "      <th>50%</th>\n",
       "      <th>75%</th>\n",
       "      <th>max</th>\n",
       "    </tr>\n",
       "  </thead>\n",
       "  <tbody>\n",
       "    <tr>\n",
       "      <th>item_id</th>\n",
       "      <td>64928</td>\n",
       "      <td>NaN</td>\n",
       "      <td>NaN</td>\n",
       "      <td>NaN</td>\n",
       "      <td>1.05459e+06</td>\n",
       "      <td>604944</td>\n",
       "      <td>33</td>\n",
       "      <td>534829</td>\n",
       "      <td>1.05383e+06</td>\n",
       "      <td>1.57878e+06</td>\n",
       "      <td>2.10224e+06</td>\n",
       "    </tr>\n",
       "    <tr>\n",
       "      <th>title</th>\n",
       "      <td>64928</td>\n",
       "      <td>59710</td>\n",
       "      <td>Xiaomi Redmi Note 7 (48 Mpx) Dual Sim 64 Gb Sp...</td>\n",
       "      <td>47</td>\n",
       "      <td>NaN</td>\n",
       "      <td>NaN</td>\n",
       "      <td>NaN</td>\n",
       "      <td>NaN</td>\n",
       "      <td>NaN</td>\n",
       "      <td>NaN</td>\n",
       "      <td>NaN</td>\n",
       "    </tr>\n",
       "    <tr>\n",
       "      <th>domain_id</th>\n",
       "      <td>64928</td>\n",
       "      <td>3214</td>\n",
       "      <td>MLB-CELLPHONES</td>\n",
       "      <td>2576</td>\n",
       "      <td>NaN</td>\n",
       "      <td>NaN</td>\n",
       "      <td>NaN</td>\n",
       "      <td>NaN</td>\n",
       "      <td>NaN</td>\n",
       "      <td>NaN</td>\n",
       "      <td>NaN</td>\n",
       "    </tr>\n",
       "    <tr>\n",
       "      <th>product_id</th>\n",
       "      <td>14159</td>\n",
       "      <td>6378</td>\n",
       "      <td>14141079</td>\n",
       "      <td>110</td>\n",
       "      <td>NaN</td>\n",
       "      <td>NaN</td>\n",
       "      <td>NaN</td>\n",
       "      <td>NaN</td>\n",
       "      <td>NaN</td>\n",
       "      <td>NaN</td>\n",
       "      <td>NaN</td>\n",
       "    </tr>\n",
       "    <tr>\n",
       "      <th>price</th>\n",
       "      <td>64928</td>\n",
       "      <td>NaN</td>\n",
       "      <td>NaN</td>\n",
       "      <td>NaN</td>\n",
       "      <td>2120.21</td>\n",
       "      <td>394535</td>\n",
       "      <td>0.01</td>\n",
       "      <td>55.9</td>\n",
       "      <td>129</td>\n",
       "      <td>255.153</td>\n",
       "      <td>1e+08</td>\n",
       "    </tr>\n",
       "    <tr>\n",
       "      <th>category_id</th>\n",
       "      <td>64928</td>\n",
       "      <td>4001</td>\n",
       "      <td>MLB1055</td>\n",
       "      <td>2576</td>\n",
       "      <td>NaN</td>\n",
       "      <td>NaN</td>\n",
       "      <td>NaN</td>\n",
       "      <td>NaN</td>\n",
       "      <td>NaN</td>\n",
       "      <td>NaN</td>\n",
       "      <td>NaN</td>\n",
       "    </tr>\n",
       "    <tr>\n",
       "      <th>condition</th>\n",
       "      <td>64928</td>\n",
       "      <td>3</td>\n",
       "      <td>new</td>\n",
       "      <td>64787</td>\n",
       "      <td>NaN</td>\n",
       "      <td>NaN</td>\n",
       "      <td>NaN</td>\n",
       "      <td>NaN</td>\n",
       "      <td>NaN</td>\n",
       "      <td>NaN</td>\n",
       "      <td>NaN</td>\n",
       "    </tr>\n",
       "  </tbody>\n",
       "</table>\n",
       "</div>"
      ],
      "text/plain": [
       "             count unique                                                top  \\\n",
       "item_id      64928    NaN                                                NaN   \n",
       "title        64928  59710  Xiaomi Redmi Note 7 (48 Mpx) Dual Sim 64 Gb Sp...   \n",
       "domain_id    64928   3214                                     MLB-CELLPHONES   \n",
       "product_id   14159   6378                                           14141079   \n",
       "price        64928    NaN                                                NaN   \n",
       "category_id  64928   4001                                            MLB1055   \n",
       "condition    64928      3                                                new   \n",
       "\n",
       "              freq         mean     std   min     25%          50%  \\\n",
       "item_id        NaN  1.05459e+06  604944    33  534829  1.05383e+06   \n",
       "title           47          NaN     NaN   NaN     NaN          NaN   \n",
       "domain_id     2576          NaN     NaN   NaN     NaN          NaN   \n",
       "product_id     110          NaN     NaN   NaN     NaN          NaN   \n",
       "price          NaN      2120.21  394535  0.01    55.9          129   \n",
       "category_id   2576          NaN     NaN   NaN     NaN          NaN   \n",
       "condition    64787          NaN     NaN   NaN     NaN          NaN   \n",
       "\n",
       "                     75%          max  \n",
       "item_id      1.57878e+06  2.10224e+06  \n",
       "title                NaN          NaN  \n",
       "domain_id            NaN          NaN  \n",
       "product_id           NaN          NaN  \n",
       "price            255.153        1e+08  \n",
       "category_id          NaN          NaN  \n",
       "condition            NaN          NaN  "
      ]
     },
     "execution_count": 10,
     "metadata": {},
     "output_type": "execute_result"
    }
   ],
   "source": [
    "df.describe(include='all').transpose()"
   ]
  },
  {
   "cell_type": "code",
   "execution_count": 11,
   "metadata": {},
   "outputs": [],
   "source": [
    "import matplotlib.pyplot as plt\n",
    "import seaborn as sns\n",
    "import numpy as np\n",
    "%config InlineBackend.figure_format = 'retina'"
   ]
  },
  {
   "cell_type": "code",
   "execution_count": 12,
   "metadata": {},
   "outputs": [
    {
     "data": {
      "text/plain": [
       "array([[<AxesSubplot:title={'center':'price'}>]], dtype=object)"
      ]
     },
     "execution_count": 12,
     "metadata": {},
     "output_type": "execute_result"
    },
    {
     "data": {
      "image/png": "[encoded data removed]",
      "text/plain": [
       "<Figure size 432x288 with 1 Axes>"
      ]
     },
     "metadata": {
      "image/png": {
       "height": 276,
       "width": 388
      },
      "needs_background": "light"
     },
     "output_type": "display_data"
    }
   ],
   "source": [
    "df[['price']].hist()"
   ]
  },
  {
   "cell_type": "code",
   "execution_count": 13,
   "metadata": {},
   "outputs": [],
   "source": [
    "quantile_99 = df['price'].quantile(0.99)"
   ]
  },
  {
   "cell_type": "code",
   "execution_count": 28,
   "metadata": {},
   "outputs": [
    {
     "data": {
      "text/plain": [
       "3099.0"
      ]
     },
     "execution_count": 28,
     "metadata": {},
     "output_type": "execute_result"
    }
   ],
   "source": [
    "quantile_99"
   ]
  },
  {
   "cell_type": "code",
   "execution_count": 15,
   "metadata": {},
   "outputs": [],
   "source": [
    "df = df[df['price'] < quantile_99]"
   ]
  },
  {
   "cell_type": "code",
   "execution_count": 16,
   "metadata": {},
   "outputs": [
    {
     "data": {
      "image/png": "[encoded data removed]",
      "text/plain": [
       "<Figure size 432x288 with 1 Axes>"
      ]
     },
     "metadata": {
      "image/png": {
       "height": 251,
       "width": 388
      },
      "needs_background": "light"
     },
     "output_type": "display_data"
    }
   ],
   "source": [
    "plt.hist(df['price'], range=(0, 1000))\n",
    "plt.show()"
   ]
  },
  {
   "cell_type": "code",
   "execution_count": 51,
   "metadata": {},
   "outputs": [
    {
     "data": {
      "image/png": "[encoded data removed]",
      "text/plain": [
       "<Figure size 432x288 with 1 Axes>"
      ]
     },
     "metadata": {
      "image/png": {
       "height": 248,
       "width": 388
      },
      "needs_background": "light"
     },
     "output_type": "display_data"
    }
   ],
   "source": [
    "plt.hist(df['price'], range=(0, 350))\n",
    "plt.show()"
   ]
  },
  {
   "cell_type": "code",
   "execution_count": 18,
   "metadata": {},
   "outputs": [],
   "source": [
    "from statsmodels.distributions.empirical_distribution import ECDF\n",
    "ecdf = ECDF(df['price'])"
   ]
  },
  {
   "cell_type": "code",
   "execution_count": 33,
   "metadata": {},
   "outputs": [
    {
     "data": {
      "text/plain": [
       "[<matplotlib.lines.Line2D at 0x240aaa205c8>]"
      ]
     },
     "execution_count": 33,
     "metadata": {},
     "output_type": "execute_result"
    },
    {
     "data": {
      "image/png": "[encoded data removed]",
      "text/plain": [
       "<Figure size 432x288 with 1 Axes>"
      ]
     },
     "metadata": {
      "image/png": {
       "height": 248,
       "width": 372
      },
      "needs_background": "light"
     },
     "output_type": "display_data"
    }
   ],
   "source": [
    "x = np.linspace(0, 3000)\n",
    "y = ecdf(x)\n",
    "plt.step(x, y)"
   ]
  },
  {
   "cell_type": "code",
   "execution_count": 35,
   "metadata": {},
   "outputs": [
    {
     "data": {
      "image/png": "[encoded data removed]",
      "text/plain": [
       "<Figure size 432x288 with 1 Axes>"
      ]
     },
     "metadata": {
      "image/png": {
       "height": 248,
       "width": 372
      },
      "needs_background": "light"
     },
     "output_type": "display_data"
    }
   ],
   "source": [
    "plt.plot(ecdf.x, ecdf.y)\n",
    "plt.show()"
   ]
  },
  {
   "cell_type": "code",
   "execution_count": 34,
   "metadata": {},
   "outputs": [
    {
     "data": {
      "text/plain": [
       "0.0681945481702763"
      ]
     },
     "execution_count": 34,
     "metadata": {},
     "output_type": "execute_result"
    }
   ],
   "source": [
    "ecdf(40) - ecdf(30)"
   ]
  },
  {
   "cell_type": "code",
   "execution_count": 52,
   "metadata": {},
   "outputs": [
    {
     "name": "stdout",
     "output_type": "stream",
     "text": [
      "Writing order_models.py\n"
     ]
    }
   ],
   "source": [
    "from tqdm.notebook import tqdm\n",
    "from statsmodels.distributions.empirical_distribution import ECDF\n",
    "\n",
    "class PriceBasedOrder(object):\n",
    "    def __init__(self, sold_items, verbose=True):\n",
    "        self.sold_items = sold_items\n",
    "        self.ecdf = ECDF(sold_items['price'])\n",
    "        self.verbose = verbose\n",
    "        \n",
    "    def fit(self, X=None, y=None):\n",
    "        return self\n",
    "    \n",
    "    def predict(self, X=None):\n",
    "        results = []\n",
    "        for items in (tqdm(X) if self.verbose else X):\n",
    "            scores = self._scores(items)\n",
    "            results.append([item for _, item in sorted(zip(scores, items), reverse=True)])\n",
    "        return results\n",
    "    \n",
    "    def _scores(self, items):\n",
    "        scores = []\n",
    "        for item in items:\n",
    "            price = self.sold_items[self.sold_items['item_id'] == item]['price'].values[0]\n",
    "            score = self.ecdf(price) - self.ecdf(price - 10)\n",
    "            scores.append(score)\n",
    "        return scores"
   ]
  },
  {
   "cell_type": "code",
   "execution_count": 48,
   "metadata": {},
   "outputs": [
    {
     "data": {
      "text/plain": [
       "array([ 297627,  883687,  153499, 1216469, 1283004, 1555217,  405618,\n",
       "       1656113,  706474, 2082715], dtype=int64)"
      ]
     },
     "execution_count": 48,
     "metadata": {},
     "output_type": "execute_result"
    }
   ],
   "source": [
    "df['item_id'].values[:10]"
   ]
  },
  {
   "cell_type": "code",
   "execution_count": 49,
   "metadata": {},
   "outputs": [
    {
     "data": {
      "application/vnd.jupyter.widget-view+json": {
       "model_id": "79c28541895f40d2a0589eee76b01aa7",
       "version_major": 2,
       "version_minor": 0
      },
      "text/plain": [
       "HBox(children=(HTML(value=''), FloatProgress(value=0.0, max=1.0), HTML(value='')))"
      ]
     },
     "metadata": {},
     "output_type": "display_data"
    },
    {
     "name": "stdout",
     "output_type": "stream",
     "text": [
      "1858.31\n",
      "399.0\n",
      "999.0\n",
      "228.0\n",
      "369.0\n",
      "299.0\n",
      "450.0\n",
      "1400.0\n",
      "358.99\n",
      "215.0\n",
      "[ 297627  883687  153499 1216469 1283004 1555217  405618 1656113  706474\n",
      " 2082715] [0.00043564849390087534, 0.0077172018919591245, 0.002971745083395483, 0.01226039332835449, 0.0036874533233757223, 0.011731391585760531, 0.0041853373164052465, 0.0017425939756037234, 0.007001493651979107, 0.011015683345780514]\n",
      "\n"
     ]
    },
    {
     "data": {
      "text/plain": [
       "[[1216469,\n",
       "  1555217,\n",
       "  2082715,\n",
       "  883687,\n",
       "  706474,\n",
       "  405618,\n",
       "  1283004,\n",
       "  153499,\n",
       "  1656113,\n",
       "  297627]]"
      ]
     },
     "execution_count": 49,
     "metadata": {},
     "output_type": "execute_result"
    }
   ],
   "source": [
    "order = PriceBasedOrder(df)\n",
    "order.predict([df['item_id'].values[:10]])"
   ]
  },
  {
   "cell_type": "code",
   "execution_count": 46,
   "metadata": {},
   "outputs": [
    {
     "data": {
      "text/html": [
       "<div>\n",
       "<style scoped>\n",
       "    .dataframe tbody tr th:only-of-type {\n",
       "        vertical-align: middle;\n",
       "    }\n",
       "\n",
       "    .dataframe tbody tr th {\n",
       "        vertical-align: top;\n",
       "    }\n",
       "\n",
       "    .dataframe thead th {\n",
       "        text-align: right;\n",
       "    }\n",
       "</style>\n",
       "<table border=\"1\" class=\"dataframe\">\n",
       "  <thead>\n",
       "    <tr style=\"text-align: right;\">\n",
       "      <th></th>\n",
       "      <th>item_id</th>\n",
       "      <th>title</th>\n",
       "      <th>domain_id</th>\n",
       "      <th>product_id</th>\n",
       "      <th>price</th>\n",
       "      <th>category_id</th>\n",
       "      <th>condition</th>\n",
       "    </tr>\n",
       "  </thead>\n",
       "  <tbody>\n",
       "    <tr>\n",
       "      <th>31</th>\n",
       "      <td>297627</td>\n",
       "      <td>S10 10.1 Pulgadas Tablet Pc Android 8.0 8+128g...</td>\n",
       "      <td>MLM-TABLETS</td>\n",
       "      <td>None</td>\n",
       "      <td>1858.31</td>\n",
       "      <td>MLM82070</td>\n",
       "      <td>new</td>\n",
       "    </tr>\n",
       "    <tr>\n",
       "      <th>38</th>\n",
       "      <td>883687</td>\n",
       "      <td>2 Pack Tapete Foamy 3m2 61x61 8mm Fomy Gym Niñ...</td>\n",
       "      <td>MLM-BABY_SUPPLIES</td>\n",
       "      <td>None</td>\n",
       "      <td>399.00</td>\n",
       "      <td>MLM1887</td>\n",
       "      <td>new</td>\n",
       "    </tr>\n",
       "    <tr>\n",
       "      <th>141</th>\n",
       "      <td>153499</td>\n",
       "      <td>Bateria Xiaomi Mi Power Bank 2c 20000mah Quick...</td>\n",
       "      <td>MLM-PORTABLE_CELLPHONE_CHARGERS</td>\n",
       "      <td>None</td>\n",
       "      <td>999.00</td>\n",
       "      <td>MLM187617</td>\n",
       "      <td>new</td>\n",
       "    </tr>\n",
       "    <tr>\n",
       "      <th>169</th>\n",
       "      <td>1216469</td>\n",
       "      <td>Donde Habitan Los Ángeles</td>\n",
       "      <td>MLM-BOOKS</td>\n",
       "      <td>None</td>\n",
       "      <td>228.00</td>\n",
       "      <td>MLM1196</td>\n",
       "      <td>new</td>\n",
       "    </tr>\n",
       "    <tr>\n",
       "      <th>226</th>\n",
       "      <td>1283004</td>\n",
       "      <td>Bascula Digital 180kg Personal Cristal Templad...</td>\n",
       "      <td>MLM-BODYWEIGHT_SCALES</td>\n",
       "      <td>None</td>\n",
       "      <td>369.00</td>\n",
       "      <td>MLM5387</td>\n",
       "      <td>new</td>\n",
       "    </tr>\n",
       "    <tr>\n",
       "      <th>287</th>\n",
       "      <td>1555217</td>\n",
       "      <td>Producto Eficaz Para Eliminar Chinches De Cama...</td>\n",
       "      <td>MLM-PLAGUES_ULTRASONIC_REPELLENTS</td>\n",
       "      <td>None</td>\n",
       "      <td>299.00</td>\n",
       "      <td>MLM29880</td>\n",
       "      <td>new</td>\n",
       "    </tr>\n",
       "    <tr>\n",
       "      <th>325</th>\n",
       "      <td>405618</td>\n",
       "      <td>Biotin Plus Keratin 60 Tabletas Spring Valley</td>\n",
       "      <td>MLM-SUPPLEMENTS</td>\n",
       "      <td>15119344</td>\n",
       "      <td>450.00</td>\n",
       "      <td>MLM167994</td>\n",
       "      <td>new</td>\n",
       "    </tr>\n",
       "    <tr>\n",
       "      <th>353</th>\n",
       "      <td>1656113</td>\n",
       "      <td>Plancha Tazas Tlp 11oz Sublimación Sublimar Ta...</td>\n",
       "      <td>MLM-SCREEN_PRINTERS</td>\n",
       "      <td>15709438</td>\n",
       "      <td>1400.00</td>\n",
       "      <td>MLM120225</td>\n",
       "      <td>new</td>\n",
       "    </tr>\n",
       "    <tr>\n",
       "      <th>390</th>\n",
       "      <td>706474</td>\n",
       "      <td>Corrector Magnetico De Postura Terapia Con Ima...</td>\n",
       "      <td>MLM-BODY_SHAPERS</td>\n",
       "      <td>None</td>\n",
       "      <td>358.99</td>\n",
       "      <td>MLM7836</td>\n",
       "      <td>new</td>\n",
       "    </tr>\n",
       "    <tr>\n",
       "      <th>405</th>\n",
       "      <td>2082715</td>\n",
       "      <td>Mica Vidrio Templado Cristal Uv Samsung S10 S9...</td>\n",
       "      <td>MLM-CELLPHONE_TABLET_AND_GPS_SCREEN_PROTECTORS</td>\n",
       "      <td>None</td>\n",
       "      <td>215.00</td>\n",
       "      <td>MLM12953</td>\n",
       "      <td>new</td>\n",
       "    </tr>\n",
       "  </tbody>\n",
       "</table>\n",
       "</div>"
      ],
      "text/plain": [
       "     item_id                                              title  \\\n",
       "31    297627  S10 10.1 Pulgadas Tablet Pc Android 8.0 8+128g...   \n",
       "38    883687  2 Pack Tapete Foamy 3m2 61x61 8mm Fomy Gym Niñ...   \n",
       "141   153499  Bateria Xiaomi Mi Power Bank 2c 20000mah Quick...   \n",
       "169  1216469                          Donde Habitan Los Ángeles   \n",
       "226  1283004  Bascula Digital 180kg Personal Cristal Templad...   \n",
       "287  1555217  Producto Eficaz Para Eliminar Chinches De Cama...   \n",
       "325   405618     Biotin Plus Keratin 60 Tabletas Spring Valley    \n",
       "353  1656113  Plancha Tazas Tlp 11oz Sublimación Sublimar Ta...   \n",
       "390   706474  Corrector Magnetico De Postura Terapia Con Ima...   \n",
       "405  2082715  Mica Vidrio Templado Cristal Uv Samsung S10 S9...   \n",
       "\n",
       "                                          domain_id product_id    price  \\\n",
       "31                                      MLM-TABLETS       None  1858.31   \n",
       "38                                MLM-BABY_SUPPLIES       None   399.00   \n",
       "141                 MLM-PORTABLE_CELLPHONE_CHARGERS       None   999.00   \n",
       "169                                       MLM-BOOKS       None   228.00   \n",
       "226                           MLM-BODYWEIGHT_SCALES       None   369.00   \n",
       "287               MLM-PLAGUES_ULTRASONIC_REPELLENTS       None   299.00   \n",
       "325                                 MLM-SUPPLEMENTS   15119344   450.00   \n",
       "353                             MLM-SCREEN_PRINTERS   15709438  1400.00   \n",
       "390                                MLM-BODY_SHAPERS       None   358.99   \n",
       "405  MLM-CELLPHONE_TABLET_AND_GPS_SCREEN_PROTECTORS       None   215.00   \n",
       "\n",
       "    category_id condition  \n",
       "31     MLM82070       new  \n",
       "38      MLM1887       new  \n",
       "141   MLM187617       new  \n",
       "169     MLM1196       new  \n",
       "226     MLM5387       new  \n",
       "287    MLM29880       new  \n",
       "325   MLM167994       new  \n",
       "353   MLM120225       new  \n",
       "390     MLM7836       new  \n",
       "405    MLM12953       new  "
      ]
     },
     "execution_count": 46,
     "metadata": {},
     "output_type": "execute_result"
    }
   ],
   "source": [
    "df.iloc[:10]"
   ]
  },
  {
   "cell_type": "code",
   "execution_count": null,
   "metadata": {},
   "outputs": [],
   "source": [
    "hist, bins = np.histogram(df['price'], bins=250)"
   ]
  },
  {
   "cell_type": "code",
   "execution_count": null,
   "metadata": {},
   "outputs": [],
   "source": [
    "hist = hist/np.sum(hist)"
   ]
  },
  {
   "cell_type": "code",
   "execution_count": null,
   "metadata": {},
   "outputs": [],
   "source": [
    "hist"
   ]
  },
  {
   "cell_type": "code",
   "execution_count": null,
   "metadata": {},
   "outputs": [],
   "source": [
    "bins\n"
   ]
  },
  {
   "cell_type": "code",
   "execution_count": null,
   "metadata": {},
   "outputs": [],
   "source": []
  }
 ],
 "metadata": {
  "kernelspec": {
   "display_name": "Python 3",
   "language": "python",
   "name": "python3"
  },
  "language_info": {
   "codemirror_mode": {
    "name": "ipython",
    "version": 3
   },
   "file_extension": ".py",
   "mimetype": "text/x-python",
   "name": "python",
   "nbconvert_exporter": "python",
   "pygments_lexer": "ipython3",
   "version": "3.7.9"
  }
 },
 "nbformat": 4,
 "nbformat_minor": 4
}
